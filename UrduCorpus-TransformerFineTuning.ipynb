{
 "cells": [
  {
   "cell_type": "code",
   "execution_count": null,
   "metadata": {
    "execution": {
     "iopub.execute_input": "2023-03-29T10:45:59.116779Z",
     "iopub.status.busy": "2023-03-29T10:45:59.115991Z",
     "iopub.status.idle": "2023-03-29T10:45:59.151072Z",
     "shell.execute_reply": "2023-03-29T10:45:59.149945Z",
     "shell.execute_reply.started": "2023-03-29T10:45:59.116733Z"
    }
   },
   "outputs": [],
   "source": [
    "print(\"hello\")"
   ]
  },
  {
   "cell_type": "code",
   "execution_count": null,
   "metadata": {
    "execution": {
     "iopub.execute_input": "2023-03-29T10:45:59.153349Z",
     "iopub.status.busy": "2023-03-29T10:45:59.152900Z",
     "iopub.status.idle": "2023-03-29T10:46:12.514170Z",
     "shell.execute_reply": "2023-03-29T10:46:12.512830Z",
     "shell.execute_reply.started": "2023-03-29T10:45:59.153312Z"
    }
   },
   "outputs": [],
   "source": [
    "!pip install transformers torch datasets"
   ]
  },
  {
   "cell_type": "code",
   "execution_count": null,
   "metadata": {
    "execution": {
     "iopub.execute_input": "2023-03-29T10:46:12.518424Z",
     "iopub.status.busy": "2023-03-29T10:46:12.517712Z",
     "iopub.status.idle": "2023-03-29T18:22:18.554519Z",
     "shell.execute_reply": "2023-03-29T18:22:18.553451Z",
     "shell.execute_reply.started": "2023-03-29T10:46:12.518387Z"
    }
   },
   "outputs": [],
   "source": [
    "import torch\n",
    "from transformers import XLMRobertaTokenizer, XLMRobertaForMaskedLM, LineByLineTextDataset, DataCollatorForLanguageModeling, Trainer, TrainingArguments\n",
    "from transformers import AutoTokenizer\n",
    "# Load the tokenizer\n",
    "# tokenizer = XLMRobertaTokenizer.from_pretrained('xlm-roberta-base')\n",
    "tokenizer = AutoTokenizer.from_pretrained(\"xlm-roberta-base\")\n",
    "# Load the unlabelled dataset\n",
    "dataset = LineByLineTextDataset(tokenizer=tokenizer, file_path='/kaggle/input/urdudatabulk/urduDataBulk.txt', block_size=128)\n",
    "\n",
    "# Create the data collator\n",
    "data_collator = DataCollatorForLanguageModeling(tokenizer=tokenizer, mlm=True, mlm_probability=0.15)\n",
    "\n",
    "# Load the pre-trained XLM-RoBERTa model and modify the top layer for MLM\n",
    "model = XLMRobertaForMaskedLM.from_pretrained('xlm-roberta-base')\n",
    "\n",
    "# Set up the training arguments\n",
    "training_args = TrainingArguments(\n",
    "    output_dir='./results',\n",
    "    overwrite_output_dir=True,\n",
    "    num_train_epochs=1,\n",
    "    per_device_train_batch_size=16,\n",
    "    save_total_limit=2,\n",
    ")\n",
    "\n",
    "# Set up the trainer\n",
    "trainer = Trainer(\n",
    "    model=model,\n",
    "    args=training_args,\n",
    "    data_collator=data_collator,\n",
    "    train_dataset=dataset\n",
    ")\n",
    "\n",
    "# Train the model\n",
    "trainer.train()\n",
    "\n",
    "# Save the pre-trained model\n",
    "trainer.save_model('./Adeel-xlmRoberta-Pretrained-BULK')\n"
   ]
  },
  {
   "cell_type": "code",
   "execution_count": null,
   "metadata": {
    "execution": {
     "iopub.execute_input": "2023-03-29T18:22:18.587517Z",
     "iopub.status.busy": "2023-03-29T18:22:18.586673Z",
     "iopub.status.idle": "2023-03-29T18:22:18.599501Z",
     "shell.execute_reply": "2023-03-29T18:22:18.595563Z",
     "shell.execute_reply.started": "2023-03-29T18:22:18.587467Z"
    }
   },
   "outputs": [],
   "source": [
    "print(\"congrats\")"
   ]
  },
  {
   "cell_type": "code",
   "execution_count": null,
   "metadata": {},
   "outputs": [],
   "source": []
  }
 ],
 "metadata": {
  "kaggle": {
   "accelerator": "none",
   "dataSources": [
    {
     "datasetId": 2802929,
     "sourceId": 4836865,
     "sourceType": "datasetVersion"
    },
    {
     "datasetId": 2990102,
     "sourceId": 5146532,
     "sourceType": "datasetVersion"
    }
   ],
   "dockerImageVersionId": 30408,
   "isGpuEnabled": false,
   "isInternetEnabled": true,
   "language": "python",
   "sourceType": "notebook"
  },
  "kernelspec": {
   "display_name": "Python 3 (ipykernel)",
   "language": "python",
   "name": "python3"
  },
  "language_info": {
   "codemirror_mode": {
    "name": "ipython",
    "version": 3
   },
   "file_extension": ".py",
   "mimetype": "text/x-python",
   "name": "python",
   "nbconvert_exporter": "python",
   "pygments_lexer": "ipython3",
   "version": "3.11.7"
  }
 },
 "nbformat": 4,
 "nbformat_minor": 4
}
